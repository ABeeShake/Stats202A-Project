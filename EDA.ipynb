{
 "cells": [
  {
   "cell_type": "markdown",
   "metadata": {},
   "source": [
    "# PPP Loans: EDA"
   ]
  },
  {
   "cell_type": "code",
   "execution_count": 9,
   "metadata": {},
   "outputs": [],
   "source": [
    "import pandas as pd\n",
    "import numpy as np\n",
    "import subprocess\n",
    "import matplotlib.pyplot as plt\n",
    "import seaborn as sns\n",
    "import geocoder as geo"
   ]
  },
  {
   "cell_type": "markdown",
   "metadata": {},
   "source": [
    "## Q0: Load Data"
   ]
  },
  {
   "cell_type": "markdown",
   "metadata": {},
   "source": [
    "1. PPP Loan Level PPP_loans - SBA\n",
    "2. Unemployment Rate by County by Month - FRED\n",
    "3. County FIPS crosswalk\n",
    "4. County lat/long"
   ]
  },
  {
   "cell_type": "markdown",
   "metadata": {},
   "source": [
    "scrape_coords.py\n",
    "\n",
    "```python\n",
    "\n",
    "def scrape_coords(url):\n",
    "    \n",
    "    from bs4 import BeautifulSoup\n",
    "    import requests\n",
    "    \n",
    "    page = requests.get(url).text\n",
    "    soup = BeautifulSoup(page, 'html.parser')\n",
    "    \n",
    "    table = soup.find_all('table')[0]\n",
    "    \n",
    "    coords = pd.read_html(str(table))[0]\n",
    "    \n",
    "    results = coords.loc[:,['FIPS','Latitude','Longitude']]\n",
    "    \n",
    "    results['FIPS'] = '0'+results['FIPS'].astype(str)\n",
    "    \n",
    "    return results\n",
    "    \n",
    "def main():\n",
    "    \n",
    "    import argparse\n",
    "    \n",
    "    parser = argparse.ArgumentParser()\n",
    "    \n",
    "    parser.add_argument(\"-p\", \"--page_name\",help=\"wiki page to scrape\",required=True)\n",
    "    parser.add_argument('-o','--output_name',help='output file name',required=True)\n",
    "    \n",
    "    args = parser.parse_args()\n",
    "    \n",
    "    results = scrape_coords(args.page_name)\n",
    "    \n",
    "    results.to_csv(f'{args.output_name}.csv',index=False)\n",
    "    \n",
    "    ```"
   ]
  },
  {
   "cell_type": "code",
   "execution_count": 68,
   "metadata": {},
   "outputs": [
    {
     "data": {
      "text/plain": [
       "0"
      ]
     },
     "execution_count": 68,
     "metadata": {},
     "output_type": "execute_result"
    }
   ],
   "source": [
    "web_page = \"https://en.wikipedia.org/wiki/User:Michael_J/County_table\"\n",
    "\n",
    "output_name = \"county_to_coords\"\n",
    "\n",
    "subprocess.call(['python3','./scrape_coords.py','-p',web_page,'-o',output_name])"
   ]
  },
  {
   "cell_type": "markdown",
   "metadata": {},
   "source": [
    "## Q1: What is the distribution of PPP loans across the US"
   ]
  },
  {
   "cell_type": "markdown",
   "metadata": {},
   "source": [
    "* Calculate at county level\n",
    "* Use KDE to show spatial distribution\n",
    "\n",
    "**STEPS**\n",
    "1. Load PPP data into python\n",
    "2. Remove any rows without a valid city or state"
   ]
  },
  {
   "cell_type": "markdown",
   "metadata": {},
   "source": [
    "load_PPP.py\n",
    "\n",
    "```python\n",
    "\n",
    "def add_county(data):\n",
    "    \n",
    "    import pandas as pd\n",
    "    \n",
    "    counties = pd.read_csv(\"./ZIP-COUNTY-FIPS_2017-06.csv\", dtype='object')\n",
    "    \n",
    "    data['BorrowerZip'] = data['BorrowerZip'].str[:5]\n",
    "    \n",
    "    data = data.merge(counties, left_on = ['BorrowerState','BorrowerZip'], right_on = ['STATE','ZIP'])\n",
    "    \n",
    "    data.drop(['ZIP','COUNTYNAME','STATE',\n",
    "               'CLASSFP','Gender','Veteran',\n",
    "               'NonProfit','Race','Ethnicity'],axis=1,inplace=True)\n",
    "    \n",
    "    data.rename(columns={'STCOUNTYFP': 'BorrowerFIPS'},inplace=True)\n",
    "    \n",
    "    return data\n",
    "\n",
    "def add_coords(data):\n",
    "    \n",
    "    import pandas as pd\n",
    "\n",
    "    coords = pd.read_csv('./county_to_coords.csv',dtype='object')\n",
    "    \n",
    "    data = data.merge(coords,left_on=['BorrowerFIPS'], right_on=['FIPS'])\n",
    "    \n",
    "    data.drop('FIPS',axis=1,inplace=True)\n",
    "    \n",
    "    return data\n",
    "\n",
    "\n",
    "def load_PPP(file_path):\n",
    "\n",
    "    import pandas as pd\n",
    "        \n",
    "    data = pd.read_csv(file_path, nrows=100)\n",
    "    \n",
    "    data = data.loc[~(data['BorrowerCity'].isin(['','N/A',np.nan])) & ~(data['BorrowerState'].isin(['','N/A',np.nan])),]\n",
    "    \n",
    "    data = add_county(data)\n",
    "    \n",
    "    data = add_coords(data)\n",
    "    \n",
    "    return data\n",
    "\n",
    "def main():\n",
    "    \n",
    "    import argparse\n",
    "    \n",
    "    parser = argparse.ArgumentParser()\n",
    "    \n",
    "    parser.add_argument(\"-f\", \"--file_name\",help=\"file to load\",required=True)\n",
    "    parser.add_argument('-o','--output_name',help='output file name',required=True)\n",
    "    \n",
    "    args = parser.parse_args()\n",
    "    \n",
    "    PPP_loans = load_PPP(args.file_name)\n",
    "    \n",
    "    PPP_loans.to_csv(f'{args.output_name}.csv', index=False)\n",
    "\n",
    "```"
   ]
  },
  {
   "cell_type": "code",
   "execution_count": 3,
   "metadata": {},
   "outputs": [],
   "source": [
    "file_name = './public_150k_plus_220930.csv'\n",
    "PPP_name = 'PPP_with_FIPS'\n",
    "\n",
    "#subprocess.call(['python3','./py_files/load_PPP.py','-f',file_name,'-o',PPP_name])"
   ]
  },
  {
   "cell_type": "code",
   "execution_count": 4,
   "metadata": {},
   "outputs": [],
   "source": [
    "PPP_loans = pd.read_csv(f'./{PPP_name}.csv')"
   ]
  },
  {
   "cell_type": "code",
   "execution_count": 10,
   "metadata": {},
   "outputs": [],
   "source": [
    "PPP_loans['full_address'] = PPP_loans['BorrowerAddress'] + ',' + PPP_loans['BorrowerCity'] + ',' + PPP_loans['BorrowerState']"
   ]
  },
  {
   "cell_type": "code",
   "execution_count": 17,
   "metadata": {},
   "outputs": [],
   "source": [
    "def add_coords(data, sample = 1):\n",
    "    \n",
    "    from geopy.geocoders import Nominatim\n",
    "    from geopy.extra.rate_limiter import RateLimiter\n",
    "    \n",
    "    shuffled = data.sample(frac=sample)\n",
    "    \n",
    "    geolocator = Nominatim(user_agent = 'UCLA stats 202 Project',timeout = 10)\n",
    "    \n",
    "    geocode = RateLimiter(geolocator.geocode, min_delay_seconds = 1)\n",
    "    \n",
    "    shuffled['coords'] = shuffled['full_address'].apply(geocode)\n",
    "    \n",
    "    return shuffled"
   ]
  },
  {
   "cell_type": "code",
   "execution_count": 19,
   "metadata": {},
   "outputs": [],
   "source": [
    "map_subset = add_coords(PPP_loans, sample = 1/100)\n",
    "\n",
    "map_subset"
   ]
  },
  {
   "cell_type": "markdown",
   "metadata": {},
   "source": [
    "## Q2: What Factors Should be Predictors"
   ]
  },
  {
   "cell_type": "code",
   "execution_count": null,
   "metadata": {},
   "outputs": [],
   "source": []
  },
  {
   "cell_type": "code",
   "execution_count": 140,
   "metadata": {},
   "outputs": [
    {
     "name": "stderr",
     "output_type": "stream",
     "text": [
      "/tmp/ipykernel_11246/2567810464.py:1: FutureWarning: The default value of numeric_only in DataFrameGroupBy.sum is deprecated. In a future version, numeric_only will default to False. Either specify numeric_only or select only columns which should be valid for the function.\n",
      "  county_sums = PPP_loans.groupby('BorrowerFIPS').sum()[['CurrentApprovalAmount','ForgivenessAmount']].reset_index()\n",
      "/tmp/ipykernel_11246/2567810464.py:2: FutureWarning: The default value of numeric_only in DataFrameGroupBy.mean is deprecated. In a future version, numeric_only will default to False. Either specify numeric_only or select only columns which should be valid for the function.\n",
      "  county_avgs = PPP_loans.groupby('BorrowerFIPS').mean()[['CurrentApprovalAmount','ForgivenessAmount']].reset_index()\n"
     ]
    },
    {
     "data": {
      "text/html": [
       "<div>\n",
       "<style scoped>\n",
       "    .dataframe tbody tr th:only-of-type {\n",
       "        vertical-align: middle;\n",
       "    }\n",
       "\n",
       "    .dataframe tbody tr th {\n",
       "        vertical-align: top;\n",
       "    }\n",
       "\n",
       "    .dataframe thead th {\n",
       "        text-align: right;\n",
       "    }\n",
       "</style>\n",
       "<table border=\"1\" class=\"dataframe\">\n",
       "  <thead>\n",
       "    <tr style=\"text-align: right;\">\n",
       "      <th></th>\n",
       "      <th>BorrowerFIPS</th>\n",
       "      <th>CurrentApprovalAmount_sum</th>\n",
       "      <th>ForgivenessAmount_sum</th>\n",
       "      <th>CurrentApprovalAmount_avg</th>\n",
       "      <th>ForgivenessAmount_avg</th>\n",
       "    </tr>\n",
       "  </thead>\n",
       "  <tbody>\n",
       "    <tr>\n",
       "      <th>0</th>\n",
       "      <td>1001</td>\n",
       "      <td>4.675590e+07</td>\n",
       "      <td>4.368620e+07</td>\n",
       "      <td>403068.080603</td>\n",
       "      <td>390055.385536</td>\n",
       "    </tr>\n",
       "    <tr>\n",
       "      <th>1</th>\n",
       "      <td>1003</td>\n",
       "      <td>2.881709e+08</td>\n",
       "      <td>2.807233e+08</td>\n",
       "      <td>419462.781456</td>\n",
       "      <td>418990.030194</td>\n",
       "    </tr>\n",
       "    <tr>\n",
       "      <th>2</th>\n",
       "      <td>1005</td>\n",
       "      <td>1.155519e+07</td>\n",
       "      <td>1.112355e+07</td>\n",
       "      <td>412685.347857</td>\n",
       "      <td>411983.401481</td>\n",
       "    </tr>\n",
       "    <tr>\n",
       "      <th>3</th>\n",
       "      <td>1007</td>\n",
       "      <td>3.393507e+07</td>\n",
       "      <td>3.419068e+07</td>\n",
       "      <td>477958.751549</td>\n",
       "      <td>481558.866620</td>\n",
       "    </tr>\n",
       "    <tr>\n",
       "      <th>4</th>\n",
       "      <td>1009</td>\n",
       "      <td>8.541598e+07</td>\n",
       "      <td>8.541106e+07</td>\n",
       "      <td>459225.678763</td>\n",
       "      <td>459199.227796</td>\n",
       "    </tr>\n",
       "    <tr>\n",
       "      <th>...</th>\n",
       "      <td>...</td>\n",
       "      <td>...</td>\n",
       "      <td>...</td>\n",
       "      <td>...</td>\n",
       "      <td>...</td>\n",
       "    </tr>\n",
       "    <tr>\n",
       "      <th>3167</th>\n",
       "      <td>72151</td>\n",
       "      <td>3.290510e+06</td>\n",
       "      <td>3.325827e+06</td>\n",
       "      <td>658102.000000</td>\n",
       "      <td>665165.434000</td>\n",
       "    </tr>\n",
       "    <tr>\n",
       "      <th>3168</th>\n",
       "      <td>72153</td>\n",
       "      <td>7.589880e+06</td>\n",
       "      <td>7.266665e+06</td>\n",
       "      <td>421660.000000</td>\n",
       "      <td>454166.557500</td>\n",
       "    </tr>\n",
       "    <tr>\n",
       "      <th>3169</th>\n",
       "      <td>78010</td>\n",
       "      <td>4.553892e+07</td>\n",
       "      <td>4.530799e+07</td>\n",
       "      <td>450880.369703</td>\n",
       "      <td>453079.866700</td>\n",
       "    </tr>\n",
       "    <tr>\n",
       "      <th>3170</th>\n",
       "      <td>78020</td>\n",
       "      <td>4.468858e+06</td>\n",
       "      <td>4.347389e+06</td>\n",
       "      <td>262874.002941</td>\n",
       "      <td>271711.840625</td>\n",
       "    </tr>\n",
       "    <tr>\n",
       "      <th>3171</th>\n",
       "      <td>78030</td>\n",
       "      <td>5.464784e+07</td>\n",
       "      <td>4.785995e+07</td>\n",
       "      <td>371754.043810</td>\n",
       "      <td>344316.185252</td>\n",
       "    </tr>\n",
       "  </tbody>\n",
       "</table>\n",
       "<p>3172 rows × 5 columns</p>\n",
       "</div>"
      ],
      "text/plain": [
       "      BorrowerFIPS  CurrentApprovalAmount_sum  ForgivenessAmount_sum  \\\n",
       "0             1001               4.675590e+07           4.368620e+07   \n",
       "1             1003               2.881709e+08           2.807233e+08   \n",
       "2             1005               1.155519e+07           1.112355e+07   \n",
       "3             1007               3.393507e+07           3.419068e+07   \n",
       "4             1009               8.541598e+07           8.541106e+07   \n",
       "...            ...                        ...                    ...   \n",
       "3167         72151               3.290510e+06           3.325827e+06   \n",
       "3168         72153               7.589880e+06           7.266665e+06   \n",
       "3169         78010               4.553892e+07           4.530799e+07   \n",
       "3170         78020               4.468858e+06           4.347389e+06   \n",
       "3171         78030               5.464784e+07           4.785995e+07   \n",
       "\n",
       "      CurrentApprovalAmount_avg  ForgivenessAmount_avg  \n",
       "0                 403068.080603          390055.385536  \n",
       "1                 419462.781456          418990.030194  \n",
       "2                 412685.347857          411983.401481  \n",
       "3                 477958.751549          481558.866620  \n",
       "4                 459225.678763          459199.227796  \n",
       "...                         ...                    ...  \n",
       "3167              658102.000000          665165.434000  \n",
       "3168              421660.000000          454166.557500  \n",
       "3169              450880.369703          453079.866700  \n",
       "3170              262874.002941          271711.840625  \n",
       "3171              371754.043810          344316.185252  \n",
       "\n",
       "[3172 rows x 5 columns]"
      ]
     },
     "execution_count": 140,
     "metadata": {},
     "output_type": "execute_result"
    }
   ],
   "source": [
    "county_sums = PPP_loans.groupby('BorrowerFIPS').sum()[['CurrentApprovalAmount','ForgivenessAmount']].reset_index()\n",
    "county_avgs = PPP_loans.groupby('BorrowerFIPS').mean()[['CurrentApprovalAmount','ForgivenessAmount']].reset_index()\n",
    "\n",
    "county_data = county_sums.merge(county_avgs, on='BorrowerFIPS', suffixes=['_sum','_avg'])\n",
    "\n",
    "county_data"
   ]
  }
 ],
 "metadata": {
  "kernelspec": {
   "display_name": "Python 3.10.6 ('py310')",
   "language": "python",
   "name": "python3"
  },
  "language_info": {
   "codemirror_mode": {
    "name": "ipython",
    "version": 3
   },
   "file_extension": ".py",
   "mimetype": "text/x-python",
   "name": "python",
   "nbconvert_exporter": "python",
   "pygments_lexer": "ipython3",
   "version": "3.10.6"
  },
  "orig_nbformat": 4,
  "vscode": {
   "interpreter": {
    "hash": "b8d84ddd4a460ced366a217300a4b9e52c7216bd6f7bacb3aceddff8abce27db"
   }
  }
 },
 "nbformat": 4,
 "nbformat_minor": 2
}
